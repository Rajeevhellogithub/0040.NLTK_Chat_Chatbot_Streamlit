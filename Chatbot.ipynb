{
 "cells": [
  {
   "cell_type": "code",
   "execution_count": 1,
   "id": "6b4f786a-d783-46a3-bef0-88c83c26cc77",
   "metadata": {},
   "outputs": [],
   "source": [
    "from nltk.chat.util import Chat, reflections"
   ]
  },
  {
   "cell_type": "code",
   "execution_count": 11,
   "id": "b30851b3-267d-4d0c-9527-82d12cfc8f40",
   "metadata": {},
   "outputs": [],
   "source": [
    "pairs = [\n",
    "    [\n",
    "        r\"(.*)my name is (.*)\",\n",
    "        [\"Hello %2, How are you today ?\",]\n",
    "    ],\n",
    "    [\n",
    "        r\"(.*)help(.*) \",\n",
    "        [\"I can help you \",]\n",
    "    ],\n",
    "     [\n",
    "        r\"(.*) your name ?\",\n",
    "        [\"My name is thecleverprogrammer, but you can just call me robot and I'm a chatbot .\",]\n",
    "    ],\n",
    "    [\n",
    "        r\"(.*) how are you ?\",\n",
    "        [\"I'm doing very well\", \"i am great !\"]\n",
    "    ],\n",
    "    [\n",
    "        r\"sorry (.*)\",\n",
    "        [\"Its alright\",\"Its OK, never mind that\",]\n",
    "    ],\n",
    "    [\n",
    "        r\"i'm (.*) (good|well|okay|ok)\",\n",
    "        [\"Nice to hear that\",\"Alright, great !\",]\n",
    "    ],\n",
    "    [\n",
    "        r\"(hi|hey|hello|hola|holla)(.*)\",\n",
    "        [\"Hello\", \"Hey there\",]\n",
    "    ],\n",
    "    [\n",
    "        r\"what (.*) want ?\",\n",
    "        [\"Make me an offer I can't refuse\",]\n",
    "        \n",
    "    ],\n",
    "    [\n",
    "        r\"(.*)created(.*)\",\n",
    "        [\"prakash created me using Python's NLTK library \",\"top secret ;)\",]\n",
    "    ],\n",
    "    [\n",
    "        r\"(.*) (location|city) ?\",\n",
    "        ['hyderabad, India',]\n",
    "    ],\n",
    "    [\n",
    "        r\"(.*)raining in (.*)\",\n",
    "        [\"No rain in the past 4 days here in %2\",\"In %2 there is a 50% chance of rain\",]\n",
    "    ],\n",
    "    [\n",
    "        r\"how (.*) health (.*)\",\n",
    "        [\"Health is very important, but I am a computer, so I don't need to worry about my health \",]\n",
    "    ],\n",
    "    [\n",
    "        r\"(.*)(sports|game|sport)(.*)\",\n",
    "        [\"I'm a very big fan of Cricket\",]\n",
    "    ],\n",
    "    [\n",
    "        r\"who (.*) (Cricketer|Batsman)?\",\n",
    "        [\"Virat Kohli\"]\n",
    "    ],\n",
    "    [\n",
    "        r\"quit\",\n",
    "        [\"Bye for now. See you soon :) \",\"It was nice talking to you. See you soon :)\"]\n",
    "    ],\n",
    "    [\n",
    "        r\"(.*)\",\n",
    "        ['our customer service will reach you']\n",
    "    ],\n",
    " ]   "
   ]
  },
  {
   "cell_type": "code",
   "execution_count": 12,
   "id": "b760280e-889e-4fe4-aefc-a9b97d404869",
   "metadata": {},
   "outputs": [
    {
     "data": {
      "text/plain": [
       "list"
      ]
     },
     "execution_count": 12,
     "metadata": {},
     "output_type": "execute_result"
    }
   ],
   "source": [
    "type(pairs)"
   ]
  },
  {
   "cell_type": "code",
   "execution_count": 13,
   "id": "4a9a6212-5ac2-4312-861e-7a39851f1125",
   "metadata": {},
   "outputs": [
    {
     "data": {
      "text/plain": [
       "16"
      ]
     },
     "execution_count": 13,
     "metadata": {},
     "output_type": "execute_result"
    }
   ],
   "source": [
    "len(pairs)"
   ]
  },
  {
   "cell_type": "code",
   "execution_count": 14,
   "id": "84d3bcf3-eb11-48e1-84a3-dc2e400bc985",
   "metadata": {},
   "outputs": [
    {
     "name": "stdout",
     "output_type": "stream",
     "text": [
      "['(.*)my name is (.*)', ['Hello %2, How are you today ?']]\n",
      "-----------------------------------------------------\n",
      "['(.*)help(.*) ', ['I can help you ']]\n",
      "-----------------------------------------------------\n",
      "['(.*) your name ?', [\"My name is thecleverprogrammer, but you can just call me robot and I'm a chatbot .\"]]\n",
      "-----------------------------------------------------\n",
      "['(.*) how are you ?', [\"I'm doing very well\", 'i am great !']]\n",
      "-----------------------------------------------------\n",
      "['sorry (.*)', ['Its alright', 'Its OK, never mind that']]\n",
      "-----------------------------------------------------\n",
      "[\"i'm (.*) (good|well|okay|ok)\", ['Nice to hear that', 'Alright, great !']]\n",
      "-----------------------------------------------------\n",
      "['(hi|hey|hello|hola|holla)(.*)', ['Hello', 'Hey there']]\n",
      "-----------------------------------------------------\n",
      "['what (.*) want ?', [\"Make me an offer I can't refuse\"]]\n",
      "-----------------------------------------------------\n",
      "['(.*)created(.*)', [\"prakash created me using Python's NLTK library \", 'top secret ;)']]\n",
      "-----------------------------------------------------\n",
      "['(.*) (location|city) ?', ['hyderabad, India']]\n",
      "-----------------------------------------------------\n",
      "['(.*)raining in (.*)', ['No rain in the past 4 days here in %2', 'In %2 there is a 50% chance of rain']]\n",
      "-----------------------------------------------------\n",
      "['how (.*) health (.*)', [\"Health is very important, but I am a computer, so I don't need to worry about my health \"]]\n",
      "-----------------------------------------------------\n",
      "['(.*)(sports|game|sport)(.*)', [\"I'm a very big fan of Cricket\"]]\n",
      "-----------------------------------------------------\n",
      "['who (.*) (Cricketer|Batsman)?', ['Virat Kohli']]\n",
      "-----------------------------------------------------\n",
      "['quit', ['Bye for now. See you soon :) ', 'It was nice talking to you. See you soon :)']]\n",
      "-----------------------------------------------------\n",
      "['(.*)', ['our customer service will reach you']]\n",
      "-----------------------------------------------------\n"
     ]
    }
   ],
   "source": [
    "for i in range(len(pairs)):\n",
    "    print(pairs[i])\n",
    "    print('-----------------------------------------------------')"
   ]
  },
  {
   "cell_type": "code",
   "execution_count": 15,
   "id": "68912bfc-c7c3-4316-85f0-49963948c0ff",
   "metadata": {},
   "outputs": [
    {
     "name": "stdout",
     "output_type": "stream",
     "text": [
      "Hi, I'm thecleverprogrammer and I like to chat\n",
      "Please type lowercase English language to start a conversation. Type quit to leave \n"
     ]
    }
   ],
   "source": [
    "print(\"Hi, I'm thecleverprogrammer and I like to chat\\nPlease type lowercase English language to start a conversation. Type quit to leave \")"
   ]
  },
  {
   "cell_type": "code",
   "execution_count": 16,
   "id": "5c59e12e-92a1-40a5-8d14-1a3cce578c49",
   "metadata": {},
   "outputs": [
    {
     "data": {
      "text/plain": [
       "nltk.chat.util.Chat"
      ]
     },
     "execution_count": 16,
     "metadata": {},
     "output_type": "execute_result"
    }
   ],
   "source": [
    "chat = Chat(pairs, reflections)\n",
    "type(chat)"
   ]
  },
  {
   "cell_type": "code",
   "execution_count": 17,
   "id": "84e21859-051b-45f6-95a1-ab8ad7b32212",
   "metadata": {},
   "outputs": [
    {
     "data": {
      "text/plain": [
       "<nltk.chat.util.Chat at 0x2249fd8f770>"
      ]
     },
     "execution_count": 17,
     "metadata": {},
     "output_type": "execute_result"
    }
   ],
   "source": [
    "chat"
   ]
  },
  {
   "cell_type": "code",
   "execution_count": 18,
   "id": "1e72fa27-f38e-422c-a9cc-efe0d27ecc02",
   "metadata": {
    "scrolled": true
   },
   "outputs": [
    {
     "name": "stdin",
     "output_type": "stream",
     "text": [
      "> may i know your name?\n"
     ]
    },
    {
     "name": "stdout",
     "output_type": "stream",
     "text": [
      "My name is thecleverprogrammer, but you can just call me robot and I'm a chatbot .\n"
     ]
    },
    {
     "name": "stdin",
     "output_type": "stream",
     "text": [
      "> how are you?\n"
     ]
    },
    {
     "name": "stdout",
     "output_type": "stream",
     "text": [
      "our customer service will reach you\n"
     ]
    },
    {
     "name": "stdin",
     "output_type": "stream",
     "text": [
      "> can you help me?\n"
     ]
    },
    {
     "name": "stdout",
     "output_type": "stream",
     "text": [
      "I can help you \n"
     ]
    },
    {
     "name": "stdin",
     "output_type": "stream",
     "text": [
      "> where is your kication\n"
     ]
    },
    {
     "name": "stdout",
     "output_type": "stream",
     "text": [
      "our customer service will reach you\n"
     ]
    },
    {
     "name": "stdin",
     "output_type": "stream",
     "text": [
      "> where is your city?\n"
     ]
    },
    {
     "name": "stdout",
     "output_type": "stream",
     "text": [
      "hyderabad, India\n"
     ]
    },
    {
     "name": "stdin",
     "output_type": "stream",
     "text": [
      "> quit\n"
     ]
    },
    {
     "name": "stdout",
     "output_type": "stream",
     "text": [
      "Bye for now. See you soon :) \n"
     ]
    }
   ],
   "source": [
    "chat.converse()"
   ]
  }
 ],
 "metadata": {
  "kernelspec": {
   "display_name": "Python 3 (ipykernel)",
   "language": "python",
   "name": "python3"
  },
  "language_info": {
   "codemirror_mode": {
    "name": "ipython",
    "version": 3
   },
   "file_extension": ".py",
   "mimetype": "text/x-python",
   "name": "python",
   "nbconvert_exporter": "python",
   "pygments_lexer": "ipython3",
   "version": "3.12.4"
  }
 },
 "nbformat": 4,
 "nbformat_minor": 5
}
