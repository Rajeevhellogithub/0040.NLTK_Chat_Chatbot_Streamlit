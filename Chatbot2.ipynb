{
 "cells": [
  {
   "cell_type": "code",
   "execution_count": 5,
   "id": "7951cf31-2abc-42ae-8997-834be8e37f6c",
   "metadata": {},
   "outputs": [],
   "source": [
    "import os\n",
    "from nltk.chat.util import Chat, reflections"
   ]
  },
  {
   "cell_type": "code",
   "execution_count": 14,
   "id": "86a5f9c6-7f2e-42e7-bf18-3f685360e33c",
   "metadata": {},
   "outputs": [
    {
     "data": {
      "text/plain": [
       "'RAJEEV'"
      ]
     },
     "execution_count": 14,
     "metadata": {},
     "output_type": "execute_result"
    }
   ],
   "source": [
    "# user = os.environ.get('username')\n",
    "user = os. getlogin()\n",
    "user"
   ]
  },
  {
   "cell_type": "code",
   "execution_count": 2,
   "id": "8affa57e-6607-4a98-a269-f32eccbbcacd",
   "metadata": {},
   "outputs": [],
   "source": [
    "pairs = [\n",
    "    [\"(.*)?my name is(.*)\", [\"Hello %2, how can I help you?\"]],\n",
    "    [\"(.*)?help(.*)\", [\"How can I help you\"]],\n",
    "    [\"(.*)?your name(.*)\", [\"My name is RoboChat\"]],\n",
    "    [\"(.*)?how are you(.*)\", [\"I am doing very well!\", \"I am great!\"]],\n",
    "    [\"(.*)?sorry(.*)\", [\"Its alright\", \"Its OK, never mind that\"]],\n",
    "    [\"(.*)?(good|well|okay|ok)(.*)\", [\"Nice to hear that!\", \"Alright, great!\"]],\n",
    "    [\"(.*)?(hi|hey|hello|hola|holla) (.*)\", [\"Hello!\", \"Hey there!\"]],\n",
    "    [\"(.*)?want(.*)\", [\"Make me an offer I can not refuse\"]],\n",
    "    [\"(.*)?created(.*)\", [\"Rajeev created me using Python NLTK library\", \"It is a top secret!\"]],\n",
    "    [\"(.*)?(location|city)(.*)\", ['Hyderabad, India',]],\n",
    "    [\"(.*)?raining in(.*)\", [\"No rain in the past 4 days here in %2\", \"In %2 there is a 50% chance of rain\"]],\n",
    "    [\"(.*)?health(.*)\", [\"Health is very important, but I am a program, so I don't need to worry about my health\"]],\n",
    "    [\"(.*)?(sports|game|sport)(.*)\", [\"I'm a very big fan of Cricket\"]],\n",
    "    [\"(.*)?(cricketer|batsman)(.*)\", [\"Virat Kohli\"]],\n",
    "    [\"quit\", [\"Bye for now. See you soon!\", \"It was nice talking to you. See you soon!\"]],\n",
    "    [\"(.*)\", ['I did not understand!']]\n",
    "]"
   ]
  },
  {
   "cell_type": "code",
   "execution_count": 3,
   "id": "6db4dc79-061f-41de-8e58-66ce690d337a",
   "metadata": {},
   "outputs": [],
   "source": [
    "chatbot = Chat(pairs, reflections)"
   ]
  },
  {
   "cell_type": "code",
   "execution_count": 24,
   "id": "067fb41f-c27c-466f-9205-f0e57e546c23",
   "metadata": {},
   "outputs": [],
   "source": [
    "history = []"
   ]
  },
  {
   "cell_type": "code",
   "execution_count": 25,
   "id": "a291e484-10a8-4eec-a3b7-46b89fcf7bb7",
   "metadata": {},
   "outputs": [],
   "source": [
    "user_input1 = 'hello, my name is rajeev'"
   ]
  },
  {
   "cell_type": "code",
   "execution_count": 26,
   "id": "78088e08-3824-434e-a35b-2baa96af822e",
   "metadata": {},
   "outputs": [],
   "source": [
    "history.append({\"role\": user, \"content\": user_input})"
   ]
  },
  {
   "cell_type": "code",
   "execution_count": 27,
   "id": "ab2f8f26-70a4-449a-ae4e-526ec8fcf496",
   "metadata": {},
   "outputs": [
    {
     "data": {
      "text/plain": [
       "'Hello  rajeev, how can I help you?'"
      ]
     },
     "execution_count": 27,
     "metadata": {},
     "output_type": "execute_result"
    }
   ],
   "source": [
    "bot_response = chatbot.respond(user_input) or \"I'm not sure how to respond to that.\"\n",
    "bot_response"
   ]
  },
  {
   "cell_type": "code",
   "execution_count": 28,
   "id": "53ddc6d8-1dbe-482e-84dd-3012081ba51d",
   "metadata": {},
   "outputs": [],
   "source": [
    "history.append({\"role\": \"bot\", \"content\": bot_response})"
   ]
  },
  {
   "cell_type": "code",
   "execution_count": 29,
   "id": "963c04bb-c51c-4de7-8a25-8e7a06e5923d",
   "metadata": {},
   "outputs": [
    {
     "data": {
      "text/plain": [
       "[{'role': 'RAJEEV', 'content': 'hello, my name is rajeev'},\n",
       " {'role': 'bot', 'content': 'Hello  rajeev, how can I help you?'}]"
      ]
     },
     "execution_count": 29,
     "metadata": {},
     "output_type": "execute_result"
    }
   ],
   "source": [
    "history"
   ]
  },
  {
   "cell_type": "code",
   "execution_count": 30,
   "id": "870091cd-5deb-4534-9e8d-fee4b3a4eaad",
   "metadata": {},
   "outputs": [
    {
     "name": "stdout",
     "output_type": "stream",
     "text": [
      "RAJEEV\n",
      "bot\n"
     ]
    }
   ],
   "source": [
    "for chat in history:\n",
    "    print(chat['role'])"
   ]
  },
  {
   "cell_type": "code",
   "execution_count": 31,
   "id": "5d5e3d3a-78da-4661-80cf-5e501cc7eb10",
   "metadata": {},
   "outputs": [
    {
     "name": "stdout",
     "output_type": "stream",
     "text": [
      "hello, my name is rajeev\n",
      "Hello  rajeev, how can I help you?\n"
     ]
    }
   ],
   "source": [
    "for chat in history:\n",
    "    print(chat['content'])"
   ]
  },
  {
   "cell_type": "code",
   "execution_count": 34,
   "id": "069ad1b7-0013-4892-90bb-73084de1fbeb",
   "metadata": {},
   "outputs": [
    {
     "name": "stdout",
     "output_type": "stream",
     "text": [
      "RAJEEV\n",
      "hello, my name is rajeev\n",
      "bot\n",
      "Hello  rajeev, how can I help you?\n"
     ]
    }
   ],
   "source": [
    "for chat in history:\n",
    "    print(chat['role'])\n",
    "    print(chat['content'])"
   ]
  },
  {
   "cell_type": "code",
   "execution_count": 35,
   "id": "f538d3b2-7117-4d5d-ac3b-0d40ddec2826",
   "metadata": {},
   "outputs": [
    {
     "name": "stdout",
     "output_type": "stream",
     "text": [
      "hello, my name is rajeev\n"
     ]
    }
   ],
   "source": [
    "for chat in history:\n",
    "    if chat['role'] == 'RAJEEV':\n",
    "        print( chat['content'])"
   ]
  },
  {
   "cell_type": "code",
   "execution_count": 36,
   "id": "faf7da57-38f2-412a-bddd-a365a872f7c5",
   "metadata": {},
   "outputs": [
    {
     "name": "stdout",
     "output_type": "stream",
     "text": [
      "Hello  rajeev, how can I help you?\n"
     ]
    }
   ],
   "source": [
    "for chat in history:\n",
    "    if chat['role'] == 'bot':\n",
    "        print( chat['content'])"
   ]
  }
 ],
 "metadata": {
  "kernelspec": {
   "display_name": "Python 3 (ipykernel)",
   "language": "python",
   "name": "python3"
  },
  "language_info": {
   "codemirror_mode": {
    "name": "ipython",
    "version": 3
   },
   "file_extension": ".py",
   "mimetype": "text/x-python",
   "name": "python",
   "nbconvert_exporter": "python",
   "pygments_lexer": "ipython3",
   "version": "3.12.4"
  }
 },
 "nbformat": 4,
 "nbformat_minor": 5
}
